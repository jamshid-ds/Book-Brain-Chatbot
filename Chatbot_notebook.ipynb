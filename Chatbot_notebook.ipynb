{
  "nbformat": 4,
  "nbformat_minor": 0,
  "metadata": {
    "colab": {
      "provenance": []
    },
    "kernelspec": {
      "name": "python3",
      "display_name": "Python 3"
    },
    "language_info": {
      "name": "python"
    }
  },
  "cells": [
    {
      "cell_type": "code",
      "source": [
        "%%capture\n",
        "\n",
        "!pip install openai\n",
        "!pip install langchain\n",
        "!pip install unstructured\n",
        "!pip install tiktoken\n",
        "!pip install chromadb\n",
        "!pip install langchain-community\n",
        "!pip install environs\n",
        "!pip install pypdf\n",
        "!pip install gradio"
      ],
      "metadata": {
        "id": "1MM092uYnAuA"
      },
      "execution_count": null,
      "outputs": []
    },
    {
      "cell_type": "code",
      "source": [
        "from environs import Env\n",
        "from langchain.chains import RetrievalQA\n",
        "from langchain.chat_models import ChatOpenAI\n",
        "from langchain.embeddings.openai import OpenAIEmbeddings\n",
        "from langchain.prompts import PromptTemplate\n",
        "from langchain.vectorstores import Chroma\n",
        "from langchain_community.document_loaders.pdf import PyPDFLoader\n",
        "import openai"
      ],
      "metadata": {
        "id": "Ak7kaeLFw-go"
      },
      "execution_count": null,
      "outputs": []
    },
    {
      "cell_type": "markdown",
      "source": [
        "#TEXT"
      ],
      "metadata": {
        "id": "nyvtPpBKIKw8"
      }
    },
    {
      "cell_type": "code",
      "source": [
        "api =  \"OPEN AI API\"\n",
        "openai.api_key = api #API\n",
        "loader = PyPDFLoader(\"book.pdf\") #KITOB MANZILI\n",
        "pages = loader.load()\n",
        "embedding = OpenAIEmbeddings(openai_api_key=api)\n",
        "llm_name = \"gpt-3.5-turbo\"\n",
        "llm = ChatOpenAI(model_name=llm_name, temperature=0,openai_api_key=api)\n"
      ],
      "metadata": {
        "id": "4pf_MFZmFKyf"
      },
      "execution_count": null,
      "outputs": []
    },
    {
      "cell_type": "code",
      "source": [
        "vectordb = Chroma.from_documents(pages, embedding)\n",
        "\n",
        "\n",
        "#TEMPLETE. Buni o'zgartirish orqali Botni qanday ishlashini nazorat qilish mumkin (eng)\n",
        "template_uz = \"\"\"answer the question completely, that is, with 2-3 sentences. Do not answer questions outside the book,\n",
        "In whatever language the question is asked, give the answer in that language\n",
        "\"\n",
        "\n",
        "{context}\n",
        "Question: {question}\n",
        "Helpful Answer:\"\"\"\n",
        "QA_CHAIN_PROMPT_uz = PromptTemplate(input_variables=[\"context\", \"question\"], template=template_uz)\n",
        "\n",
        "# Run chain\n",
        "qa_chain_uz = RetrievalQA.from_chain_type(llm, retriever=vectordb.as_retriever(), return_source_documents=False,\n",
        "                                       chain_type_kwargs={\"prompt\": QA_CHAIN_PROMPT_uz})\n"
      ],
      "metadata": {
        "id": "zAPGrWkmFMNo"
      },
      "execution_count": null,
      "outputs": []
    },
    {
      "cell_type": "code",
      "source": [
        "def yes_man(question, history=False):\n",
        "   return str(qa_chain_uz({\"query\": question})['result'])\n",
        "\n",
        "question = \"What is the book about?\" #Savolni qabul qilish\n",
        "yes_man(question)"
      ],
      "metadata": {
        "colab": {
          "base_uri": "https://localhost:8080/",
          "height": 52
        },
        "id": "sZN1xfh_F83w",
        "outputId": "503df5f0-3b1d-4060-cf5b-0ba6a52a24a9"
      },
      "execution_count": null,
      "outputs": [
        {
          "output_type": "execute_result",
          "data": {
            "text/plain": [
              "'The book is about magical researches and contains handwritten text that is difficult to read, possibly in Latin. It seems to be a record of some sort of magical experiments or studies.'"
            ],
            "application/vnd.google.colaboratory.intrinsic+json": {
              "type": "string"
            }
          },
          "metadata": {},
          "execution_count": 21
        }
      ]
    },
    {
      "cell_type": "markdown",
      "source": [
        "#VOICE"
      ],
      "metadata": {
        "id": "MAOdZPOfIO2W"
      }
    },
    {
      "cell_type": "code",
      "source": [
        "from openai import OpenAI"
      ],
      "metadata": {
        "id": "8bkZPFsEIW7Y"
      },
      "execution_count": null,
      "outputs": []
    },
    {
      "cell_type": "code",
      "source": [
        "client = OpenAI(api_key=api)\n",
        "\n",
        "audio_file= open(\"audio.wav\", \"rb\")\n",
        "transcription = client.audio.transcriptions.create(\n",
        "  model=\"whisper-1\",\n",
        "  file=audio_file\n",
        ")\n",
        "print(transcription.text)"
      ],
      "metadata": {
        "colab": {
          "base_uri": "https://localhost:8080/"
        },
        "id": "LBZaDWMKINQ5",
        "outputId": "ba646aba-8f57-4de0-d499-697ec6e44b4c"
      },
      "execution_count": null,
      "outputs": [
        {
          "output_type": "stream",
          "name": "stdout",
          "text": [
            "اعطني شهادة المدرسية\n"
          ]
        }
      ]
    },
    {
      "cell_type": "code",
      "source": [
        "yes_man(transcription.text)"
      ],
      "metadata": {
        "colab": {
          "base_uri": "https://localhost:8080/",
          "height": 35
        },
        "id": "ObKh8DzoIUpe",
        "outputId": "2ac2a605-b616-4fe6-9490-4c3522386fae"
      },
      "execution_count": null,
      "outputs": [
        {
          "output_type": "execute_result",
          "data": {
            "text/plain": [
              "'آسف، لا يوجد معلومات في الكتاب تتعلق بطلب شهادة مدرسية.'"
            ],
            "application/vnd.google.colaboratory.intrinsic+json": {
              "type": "string"
            }
          },
          "metadata": {},
          "execution_count": 17
        }
      ]
    }
  ]
}